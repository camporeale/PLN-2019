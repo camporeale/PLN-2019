{
 "cells": [
  {
   "cell_type": "markdown",
   "metadata": {},
   "source": [
    "## Ejercicio 3 - Grid Search"
   ]
  },
  {
   "cell_type": "code",
   "execution_count": 1,
   "metadata": {},
   "outputs": [],
   "source": [
    "from sklearn.pipeline import Pipeline\n",
    "from sklearn.feature_extraction.text import CountVectorizer\n",
    "from sklearn.model_selection import ParameterGrid\n",
    "from sklearn.naive_bayes import MultinomialNB\n",
    "from sklearn.svm import LinearSVC\n",
    "from sklearn.linear_model import LogisticRegression\n",
    "from sklearn import metrics\n",
    "from nltk import word_tokenize\n",
    "from nltk.corpus import stopwords\n",
    "\n",
    "from sentiment.tass import InterTASSReader\n",
    "from sentiment.baselines import MostFrequent\n",
    "from sentiment.classifier import SentimentClassifier\n",
    "from sentiment.analysis import print_maxent_features\n",
    "import pandas as pd"
   ]
  },
  {
   "cell_type": "code",
   "execution_count": 3,
   "metadata": {},
   "outputs": [],
   "source": [
    "# Loading Training Set\n",
    "corpus_train = \"./InterTASS/ES/intertass-ES-train-tagged.xml\"\n",
    "reader_train = InterTASSReader(corpus_train)\n",
    "X_train, y_train = list(reader_train.X()), list(reader_train.y())"
   ]
  },
  {
   "cell_type": "code",
   "execution_count": 4,
   "metadata": {},
   "outputs": [],
   "source": [
    "# Loading Dev Set\n",
    "corpus_dev = \"./InterTASS/ES/intertass-ES-development-tagged.xml\"\n",
    "reader_dev = InterTASSReader(corpus_dev)\n",
    "X_dev, y_dev = list(reader_dev.X()), list(reader_dev.y())"
   ]
  },
  {
   "cell_type": "code",
   "execution_count": 5,
   "metadata": {},
   "outputs": [],
   "source": [
    "def eval(model, X, y_true):\n",
    "    y_pred = model.predict(X)\n",
    "    acc = metrics.accuracy_score(y_true, y_pred)\n",
    "    f1 = metrics.f1_score(y_true, y_pred, average='macro')\n",
    "    return {'acc': acc, 'f1': f1}"
   ]
  },
  {
   "cell_type": "markdown",
   "metadata": {},
   "source": [
    "#### Logistic Regression"
   ]
  },
  {
   "cell_type": "code",
   "execution_count": 6,
   "metadata": {},
   "outputs": [],
   "source": [
    "clf = LogisticRegression()\n",
    "\n",
    "pipeline_lr = Pipeline([\n",
    "            ('vect', CountVectorizer(tokenizer=word_tokenize)),\n",
    "            ('clf', clf),\n",
    "        ])"
   ]
  },
  {
   "cell_type": "code",
   "execution_count": 7,
   "metadata": {},
   "outputs": [],
   "source": [
    "param_grid = {\n",
    "    'clf__penalty': ('l1','l2'),\n",
    "    'clf__C': [0.001, 0.01, 0.1, 1, 10],\n",
    "}\n",
    "\n",
    "params_list = list(ParameterGrid(param_grid))"
   ]
  },
  {
   "cell_type": "code",
   "execution_count": 8,
   "metadata": {},
   "outputs": [
    {
     "name": "stderr",
     "output_type": "stream",
     "text": [
      "/home/camporeale/miniconda3/envs/pln2019/lib/python3.7/site-packages/sklearn/linear_model/logistic.py:433: FutureWarning: Default solver will be changed to 'lbfgs' in 0.22. Specify a solver to silence this warning.\n",
      "  FutureWarning)\n",
      "/home/camporeale/miniconda3/envs/pln2019/lib/python3.7/site-packages/sklearn/linear_model/logistic.py:460: FutureWarning: Default multi_class will be changed to 'auto' in 0.22. Specify the multi_class option to silence this warning.\n",
      "  \"this warning.\", FutureWarning)\n",
      "/home/camporeale/miniconda3/envs/pln2019/lib/python3.7/site-packages/sklearn/metrics/classification.py:1143: UndefinedMetricWarning: F-score is ill-defined and being set to 0.0 in labels with no predicted samples.\n",
      "  'precision', 'predicted', average, warn_for)\n"
     ]
    }
   ],
   "source": [
    "results = []\n",
    "for params in params_list:\n",
    "    pipeline_lr.set_params(**params)\n",
    "    pipeline_lr.fit(X_train, y_train)\n",
    "    result = eval(pipeline_lr, X_dev, y_dev)\n",
    "\n",
    "    results.append({\n",
    "        **result,\n",
    "        **params,\n",
    "    })\n"
   ]
  },
  {
   "cell_type": "code",
   "execution_count": 9,
   "metadata": {},
   "outputs": [
    {
     "data": {
      "text/html": [
       "<div>\n",
       "<style scoped>\n",
       "    .dataframe tbody tr th:only-of-type {\n",
       "        vertical-align: middle;\n",
       "    }\n",
       "\n",
       "    .dataframe tbody tr th {\n",
       "        vertical-align: top;\n",
       "    }\n",
       "\n",
       "    .dataframe thead th {\n",
       "        text-align: right;\n",
       "    }\n",
       "</style>\n",
       "<table border=\"1\" class=\"dataframe\">\n",
       "  <thead>\n",
       "    <tr style=\"text-align: right;\">\n",
       "      <th></th>\n",
       "      <th>acc</th>\n",
       "      <th>clf__C</th>\n",
       "      <th>clf__penalty</th>\n",
       "      <th>f1</th>\n",
       "    </tr>\n",
       "  </thead>\n",
       "  <tbody>\n",
       "    <tr>\n",
       "      <th>5</th>\n",
       "      <td>0.559289</td>\n",
       "      <td>0.100</td>\n",
       "      <td>l2</td>\n",
       "      <td>0.350232</td>\n",
       "    </tr>\n",
       "    <tr>\n",
       "      <th>7</th>\n",
       "      <td>0.557312</td>\n",
       "      <td>1.000</td>\n",
       "      <td>l2</td>\n",
       "      <td>0.391317</td>\n",
       "    </tr>\n",
       "    <tr>\n",
       "      <th>9</th>\n",
       "      <td>0.537549</td>\n",
       "      <td>10.000</td>\n",
       "      <td>l2</td>\n",
       "      <td>0.384407</td>\n",
       "    </tr>\n",
       "    <tr>\n",
       "      <th>6</th>\n",
       "      <td>0.535573</td>\n",
       "      <td>1.000</td>\n",
       "      <td>l1</td>\n",
       "      <td>0.376214</td>\n",
       "    </tr>\n",
       "    <tr>\n",
       "      <th>3</th>\n",
       "      <td>0.529644</td>\n",
       "      <td>0.010</td>\n",
       "      <td>l2</td>\n",
       "      <td>0.287032</td>\n",
       "    </tr>\n",
       "    <tr>\n",
       "      <th>4</th>\n",
       "      <td>0.527668</td>\n",
       "      <td>0.100</td>\n",
       "      <td>l1</td>\n",
       "      <td>0.293593</td>\n",
       "    </tr>\n",
       "    <tr>\n",
       "      <th>8</th>\n",
       "      <td>0.521739</td>\n",
       "      <td>10.000</td>\n",
       "      <td>l1</td>\n",
       "      <td>0.383559</td>\n",
       "    </tr>\n",
       "    <tr>\n",
       "      <th>1</th>\n",
       "      <td>0.476285</td>\n",
       "      <td>0.001</td>\n",
       "      <td>l2</td>\n",
       "      <td>0.223608</td>\n",
       "    </tr>\n",
       "    <tr>\n",
       "      <th>2</th>\n",
       "      <td>0.436759</td>\n",
       "      <td>0.010</td>\n",
       "      <td>l1</td>\n",
       "      <td>0.157781</td>\n",
       "    </tr>\n",
       "    <tr>\n",
       "      <th>0</th>\n",
       "      <td>0.432806</td>\n",
       "      <td>0.001</td>\n",
       "      <td>l1</td>\n",
       "      <td>0.151034</td>\n",
       "    </tr>\n",
       "  </tbody>\n",
       "</table>\n",
       "</div>"
      ],
      "text/plain": [
       "        acc  clf__C clf__penalty        f1\n",
       "5  0.559289   0.100           l2  0.350232\n",
       "7  0.557312   1.000           l2  0.391317\n",
       "9  0.537549  10.000           l2  0.384407\n",
       "6  0.535573   1.000           l1  0.376214\n",
       "3  0.529644   0.010           l2  0.287032\n",
       "4  0.527668   0.100           l1  0.293593\n",
       "8  0.521739  10.000           l1  0.383559\n",
       "1  0.476285   0.001           l2  0.223608\n",
       "2  0.436759   0.010           l1  0.157781\n",
       "0  0.432806   0.001           l1  0.151034"
      ]
     },
     "execution_count": 9,
     "metadata": {},
     "output_type": "execute_result"
    }
   ],
   "source": [
    "results_df = pd.DataFrame(results)\n",
    "results_df.sort_values(['acc', 'f1'], ascending=False)"
   ]
  },
  {
   "cell_type": "markdown",
   "metadata": {},
   "source": [
    "#### SVM"
   ]
  },
  {
   "cell_type": "code",
   "execution_count": 10,
   "metadata": {},
   "outputs": [],
   "source": [
    "clf = LinearSVC()\n",
    "\n",
    "pipeline_svm = Pipeline([\n",
    "            ('vect', CountVectorizer(tokenizer=word_tokenize)),\n",
    "            ('clf', clf),\n",
    "        ])"
   ]
  },
  {
   "cell_type": "code",
   "execution_count": 11,
   "metadata": {},
   "outputs": [],
   "source": [
    "param_grid = {\n",
    "    'clf__penalty': ['l1','l2'],\n",
    "    'clf__C': [0.001, 0.01, 0.1, 1, 10],\n",
    "    'clf__dual': [False] \n",
    "}\n",
    "\n",
    "params_list = list(ParameterGrid(param_grid))"
   ]
  },
  {
   "cell_type": "code",
   "execution_count": 12,
   "metadata": {},
   "outputs": [
    {
     "name": "stderr",
     "output_type": "stream",
     "text": [
      "/home/camporeale/miniconda3/envs/pln2019/lib/python3.7/site-packages/sklearn/svm/base.py:931: ConvergenceWarning: Liblinear failed to converge, increase the number of iterations.\n",
      "  \"the number of iterations.\", ConvergenceWarning)\n"
     ]
    }
   ],
   "source": [
    "results = []\n",
    "for params in params_list:\n",
    "    pipeline_svm.set_params(**params)\n",
    "    pipeline_svm.fit(X_train, y_train)\n",
    "    result = eval(pipeline_svm, X_dev, y_dev)\n",
    "\n",
    "    results.append({\n",
    "        **result,\n",
    "        **params,\n",
    "    })"
   ]
  },
  {
   "cell_type": "code",
   "execution_count": 13,
   "metadata": {},
   "outputs": [
    {
     "data": {
      "text/html": [
       "<div>\n",
       "<style scoped>\n",
       "    .dataframe tbody tr th:only-of-type {\n",
       "        vertical-align: middle;\n",
       "    }\n",
       "\n",
       "    .dataframe tbody tr th {\n",
       "        vertical-align: top;\n",
       "    }\n",
       "\n",
       "    .dataframe thead th {\n",
       "        text-align: right;\n",
       "    }\n",
       "</style>\n",
       "<table border=\"1\" class=\"dataframe\">\n",
       "  <thead>\n",
       "    <tr style=\"text-align: right;\">\n",
       "      <th></th>\n",
       "      <th>acc</th>\n",
       "      <th>clf__C</th>\n",
       "      <th>clf__dual</th>\n",
       "      <th>clf__penalty</th>\n",
       "      <th>f1</th>\n",
       "    </tr>\n",
       "  </thead>\n",
       "  <tbody>\n",
       "    <tr>\n",
       "      <th>3</th>\n",
       "      <td>0.567194</td>\n",
       "      <td>0.010</td>\n",
       "      <td>False</td>\n",
       "      <td>l2</td>\n",
       "      <td>0.348590</td>\n",
       "    </tr>\n",
       "    <tr>\n",
       "      <th>5</th>\n",
       "      <td>0.561265</td>\n",
       "      <td>0.100</td>\n",
       "      <td>False</td>\n",
       "      <td>l2</td>\n",
       "      <td>0.409613</td>\n",
       "    </tr>\n",
       "    <tr>\n",
       "      <th>4</th>\n",
       "      <td>0.545455</td>\n",
       "      <td>0.100</td>\n",
       "      <td>False</td>\n",
       "      <td>l1</td>\n",
       "      <td>0.329601</td>\n",
       "    </tr>\n",
       "    <tr>\n",
       "      <th>7</th>\n",
       "      <td>0.531621</td>\n",
       "      <td>1.000</td>\n",
       "      <td>False</td>\n",
       "      <td>l2</td>\n",
       "      <td>0.400324</td>\n",
       "    </tr>\n",
       "    <tr>\n",
       "      <th>1</th>\n",
       "      <td>0.527668</td>\n",
       "      <td>0.001</td>\n",
       "      <td>False</td>\n",
       "      <td>l2</td>\n",
       "      <td>0.284634</td>\n",
       "    </tr>\n",
       "    <tr>\n",
       "      <th>8</th>\n",
       "      <td>0.525692</td>\n",
       "      <td>10.000</td>\n",
       "      <td>False</td>\n",
       "      <td>l1</td>\n",
       "      <td>0.392753</td>\n",
       "    </tr>\n",
       "    <tr>\n",
       "      <th>9</th>\n",
       "      <td>0.515810</td>\n",
       "      <td>10.000</td>\n",
       "      <td>False</td>\n",
       "      <td>l2</td>\n",
       "      <td>0.397132</td>\n",
       "    </tr>\n",
       "    <tr>\n",
       "      <th>2</th>\n",
       "      <td>0.511858</td>\n",
       "      <td>0.010</td>\n",
       "      <td>False</td>\n",
       "      <td>l1</td>\n",
       "      <td>0.266006</td>\n",
       "    </tr>\n",
       "    <tr>\n",
       "      <th>6</th>\n",
       "      <td>0.509881</td>\n",
       "      <td>1.000</td>\n",
       "      <td>False</td>\n",
       "      <td>l1</td>\n",
       "      <td>0.372984</td>\n",
       "    </tr>\n",
       "    <tr>\n",
       "      <th>0</th>\n",
       "      <td>0.432806</td>\n",
       "      <td>0.001</td>\n",
       "      <td>False</td>\n",
       "      <td>l1</td>\n",
       "      <td>0.151034</td>\n",
       "    </tr>\n",
       "  </tbody>\n",
       "</table>\n",
       "</div>"
      ],
      "text/plain": [
       "        acc  clf__C  clf__dual clf__penalty        f1\n",
       "3  0.567194   0.010      False           l2  0.348590\n",
       "5  0.561265   0.100      False           l2  0.409613\n",
       "4  0.545455   0.100      False           l1  0.329601\n",
       "7  0.531621   1.000      False           l2  0.400324\n",
       "1  0.527668   0.001      False           l2  0.284634\n",
       "8  0.525692  10.000      False           l1  0.392753\n",
       "9  0.515810  10.000      False           l2  0.397132\n",
       "2  0.511858   0.010      False           l1  0.266006\n",
       "6  0.509881   1.000      False           l1  0.372984\n",
       "0  0.432806   0.001      False           l1  0.151034"
      ]
     },
     "execution_count": 13,
     "metadata": {},
     "output_type": "execute_result"
    }
   ],
   "source": [
    "results_df = pd.DataFrame(results)\n",
    "results_df.sort_values(['acc', 'f1'], ascending=False)"
   ]
  },
  {
   "cell_type": "markdown",
   "metadata": {},
   "source": [
    "#### MultinomialNB"
   ]
  },
  {
   "cell_type": "code",
   "execution_count": 15,
   "metadata": {},
   "outputs": [],
   "source": [
    "clf = MultinomialNB()\n",
    "\n",
    "pipeline_nb = Pipeline([\n",
    "            ('vect', CountVectorizer(tokenizer=word_tokenize)),\n",
    "            ('clf', clf),\n",
    "        ])"
   ]
  },
  {
   "cell_type": "code",
   "execution_count": 16,
   "metadata": {},
   "outputs": [],
   "source": [
    "param_grid = {\n",
    "    'clf__alpha': [1, 0.1, 0.01, 0.0001] \n",
    "}\n",
    "\n",
    "params_list = list(ParameterGrid(param_grid))"
   ]
  },
  {
   "cell_type": "code",
   "execution_count": 17,
   "metadata": {},
   "outputs": [
    {
     "name": "stderr",
     "output_type": "stream",
     "text": [
      "/home/camporeale/miniconda3/envs/pln2019/lib/python3.7/site-packages/sklearn/metrics/classification.py:1143: UndefinedMetricWarning: F-score is ill-defined and being set to 0.0 in labels with no predicted samples.\n",
      "  'precision', 'predicted', average, warn_for)\n"
     ]
    }
   ],
   "source": [
    "results = []\n",
    "for params in params_list:\n",
    "    pipeline_nb.set_params(**params)\n",
    "    pipeline_nb.fit(X_train, y_train)\n",
    "    result = eval(pipeline_nb, X_dev, y_dev)\n",
    "\n",
    "    results.append({\n",
    "        **result,\n",
    "        **params,\n",
    "    })"
   ]
  },
  {
   "cell_type": "code",
   "execution_count": 19,
   "metadata": {},
   "outputs": [
    {
     "data": {
      "text/html": [
       "<div>\n",
       "<style scoped>\n",
       "    .dataframe tbody tr th:only-of-type {\n",
       "        vertical-align: middle;\n",
       "    }\n",
       "\n",
       "    .dataframe tbody tr th {\n",
       "        vertical-align: top;\n",
       "    }\n",
       "\n",
       "    .dataframe thead th {\n",
       "        text-align: right;\n",
       "    }\n",
       "</style>\n",
       "<table border=\"1\" class=\"dataframe\">\n",
       "  <thead>\n",
       "    <tr style=\"text-align: right;\">\n",
       "      <th></th>\n",
       "      <th>acc</th>\n",
       "      <th>clf__alpha</th>\n",
       "      <th>f1</th>\n",
       "    </tr>\n",
       "  </thead>\n",
       "  <tbody>\n",
       "    <tr>\n",
       "      <th>0</th>\n",
       "      <td>0.565217</td>\n",
       "      <td>1.0000</td>\n",
       "      <td>0.316191</td>\n",
       "    </tr>\n",
       "    <tr>\n",
       "      <th>1</th>\n",
       "      <td>0.549407</td>\n",
       "      <td>0.1000</td>\n",
       "      <td>0.399606</td>\n",
       "    </tr>\n",
       "    <tr>\n",
       "      <th>2</th>\n",
       "      <td>0.523715</td>\n",
       "      <td>0.0100</td>\n",
       "      <td>0.393394</td>\n",
       "    </tr>\n",
       "    <tr>\n",
       "      <th>3</th>\n",
       "      <td>0.507905</td>\n",
       "      <td>0.0001</td>\n",
       "      <td>0.374724</td>\n",
       "    </tr>\n",
       "  </tbody>\n",
       "</table>\n",
       "</div>"
      ],
      "text/plain": [
       "        acc  clf__alpha        f1\n",
       "0  0.565217      1.0000  0.316191\n",
       "1  0.549407      0.1000  0.399606\n",
       "2  0.523715      0.0100  0.393394\n",
       "3  0.507905      0.0001  0.374724"
      ]
     },
     "execution_count": 19,
     "metadata": {},
     "output_type": "execute_result"
    }
   ],
   "source": [
    "results_df = pd.DataFrame(results)\n",
    "results_df.sort_values(['acc', 'f1'], ascending=False)"
   ]
  },
  {
   "cell_type": "markdown",
   "metadata": {},
   "source": [
    "## Ejercicio 4 - Inspección de Modelos"
   ]
  },
  {
   "cell_type": "code",
   "execution_count": 20,
   "metadata": {},
   "outputs": [
    {
     "data": {
      "text/plain": [
       "[('vect', CountVectorizer(analyzer='word', binary=False, decode_error='strict',\n",
       "          dtype=<class 'numpy.int64'>, encoding='utf-8', input='content',\n",
       "          lowercase=True, max_df=1.0, max_features=None, min_df=1,\n",
       "          ngram_range=(1, 1), preprocessor=None, stop_words=None,\n",
       "          strip_accents=None, token_pattern='(?u)\\\\b\\\\w\\\\w+\\\\b',\n",
       "          tokenizer=<function word_tokenize at 0x7f78d1b14d90>,\n",
       "          vocabulary=None)),\n",
       " ('clf',\n",
       "  LogisticRegression(C=10, class_weight=None, dual=False, fit_intercept=True,\n",
       "            intercept_scaling=1, max_iter=100, multi_class='warn',\n",
       "            n_jobs=None, penalty='l2', random_state=None, solver='warn',\n",
       "            tol=0.0001, verbose=0, warm_start=False))]"
      ]
     },
     "execution_count": 20,
     "metadata": {},
     "output_type": "execute_result"
    }
   ],
   "source": [
    "pipeline_lr.steps"
   ]
  },
  {
   "cell_type": "code",
   "execution_count": 21,
   "metadata": {},
   "outputs": [],
   "source": [
    "vect = pipeline_lr.named_steps['vect']\n",
    "clf = pipeline_lr.named_steps['clf']"
   ]
  },
  {
   "cell_type": "code",
   "execution_count": 23,
   "metadata": {},
   "outputs": [
    {
     "data": {
      "text/plain": [
       "5049"
      ]
     },
     "execution_count": 23,
     "metadata": {},
     "output_type": "execute_result"
    }
   ],
   "source": [
    "features = vect.get_feature_names()\n",
    "len(features)"
   ]
  },
  {
   "cell_type": "code",
   "execution_count": 24,
   "metadata": {},
   "outputs": [
    {
     "name": "stdout",
     "output_type": "stream",
     "text": [
      "N:\n",
      "\tbonito buen guapa encuentre 11:11 irresponsable buena genial algunos voy ([-2.86934595 -2.08702273 -2.08389864 -1.91690854 -1.91690854 -1.85684378\n",
      " -1.74317015 -1.69395729 -1.66076886 -1.65224562])\n",
      "\tpoco sola cosa pobre mismo odio ni feo peor triste ([1.91680946 1.93080402 2.08830209 2.10199825 2.11868748 2.17602953\n",
      " 2.48799712 2.5166921  2.71250342 3.05123425])\n",
      "NEU:\n",
      "\tgracias su peor hoy triste ana feo sola ? cosas ([-1.65716948 -1.65133671 -1.6333469  -1.43883509 -1.41755725 -1.32158237\n",
      " -1.30704899 -1.26248005 -1.26182554 -1.20775355])\n",
      "\tpelado slammactivao encuentre 11:11 imdariusb1tches ineternete crtkftauryn plan nerviosa viejas ([1.86288855 1.86288855 2.04737787 2.04737787 2.11642018 2.11735041\n",
      " 2.16748105 2.19855978 2.75534623 3.1164695 ])\n",
      "NONE:\n",
      "\tmal buen ser nada serio feliz están más siempre sin ([-1.71397182 -1.46810325 -1.35430631 -1.34377599 -1.26008118 -1.24795138\n",
      " -1.22523022 -1.20268792 -1.20204557 -1.18798703])\n",
      "\tfecha ichuso empezado indirecta abstracto caspitoo semana distraído yaaa clrealy ([1.96480354 2.06507208 2.06507208 2.21578194 2.24644246 2.24644246\n",
      " 2.24672834 2.38573999 2.39961975 2.42272549])\n",
      "P:\n",
      "\ttriste ni plan largo horas alguien echo o mundo pobre ([-1.82989369 -1.81610547 -1.53571894 -1.50091463 -1.43708341 -1.37710547\n",
      " -1.36407942 -1.36005982 -1.34085269 -1.31653097])\n",
      "\tbuenos mejor enfadada genial feliz irresponsable cariñoso bonito buen guapa ([2.24409917 2.25132995 2.29002863 2.33219213 2.38803357 2.76703561\n",
      " 2.87307595 3.23337677 3.4017249  3.4044288 ])\n"
     ]
    }
   ],
   "source": [
    "print_maxent_features(vect, clf, 10)"
   ]
  },
  {
   "cell_type": "code",
   "execution_count": null,
   "metadata": {},
   "outputs": [],
   "source": []
  }
 ],
 "metadata": {
  "kernelspec": {
   "display_name": "Python 3",
   "language": "python",
   "name": "python3"
  },
  "language_info": {
   "codemirror_mode": {
    "name": "ipython",
    "version": 3
   },
   "file_extension": ".py",
   "mimetype": "text/x-python",
   "name": "python",
   "nbconvert_exporter": "python",
   "pygments_lexer": "ipython3",
   "version": "3.7.2"
  }
 },
 "nbformat": 4,
 "nbformat_minor": 2
}
